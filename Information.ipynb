{
 "cells": [
  {
   "cell_type": "code",
   "execution_count": 1,
   "metadata": {},
   "outputs": [],
   "source": [
    "import pandas as pd\n",
    "import numpy as np\n",
    "import matplotlib.pyplot as plt\n",
    "# the following line allows ipython to display plots\n",
    "%matplotlib inline"
   ]
  },
  {
   "cell_type": "code",
   "execution_count": 5,
   "metadata": {},
   "outputs": [
    {
     "name": "stdout",
     "output_type": "stream",
     "text": [
      "    0   1          2  3                                             4  5  \\\n",
      "0   0 NaN    3418309  0  70s3v5qRyCO/1PCdI6fVXnrW8FU/w+5CKRSa72xgcIo=  3   \n",
      "1   0 NaN    3418314  0  70s3v5qRyCO/1PCdI6fVXnrW8FU/w+5CKRSa72xgcIo=  3   \n",
      "2   0 NaN    3418319  0  70s3v5qRyCO/1PCdI6fVXnrW8FU/w+5CKRSa72xgcIo=  3   \n",
      "3   0 NaN    3418324  0  70s3v5qRyCO/1PCdI6fVXnrW8FU/w+5CKRSa72xgcIo=  3   \n",
      "4   0 NaN    3418329  0  70s3v5qRyCO/1PCdI6fVXnrW8FU/w+5CKRSa72xgcIo=  3   \n",
      ".. ..  ..        ... ..                                           ... ..   \n",
      "95  0 NaN  595842024  0  ZUNwIYC0XEQe353zPNrBI/+i8m+m7KnqQTNEBhAL7dY=  0   \n",
      "96  0 NaN  609252510  0  5vPHh8lVMgN6Bzkhe69G0RgnMRWbFSBd9PBrK5S7cg4=  2   \n",
      "97  0 NaN  609252512  0  5vPHh8lVMgN6Bzkhe69G0RgnMRWbFSBd9PBrK5S7cg4=  2   \n",
      "98  0 NaN  609252514  0  5vPHh8lVMgN6Bzkhe69G0RgnMRWbFSBd9PBrK5S7cg4=  2   \n",
      "99  0 NaN  609252516  0  5vPHh8lVMgN6Bzkhe69G0RgnMRWbFSBd9PBrK5S7cg4=  2   \n",
      "\n",
      "                                               6  \\\n",
      "0   IHgtoxEBuUTHNbUeVs4hzptMY4n8rZKLbZg+Jh5fNG4=   \n",
      "1   L52XDyhi9x9ChmVBZ1qavOFmnzPeVsvQ2QyGmBZcV4s=   \n",
      "2   vq0IN3BWEbkDjYgYvkrVyH6OWoUoDwFFf3j/syEZzLA=   \n",
      "3   X+Vce15Yu3BCKb7Ttc6hvINAzdfG3NtYEDNNsPdMGKo=   \n",
      "4   EeK3DUWYi1P0vgBTp7wZdUos8UKj/+/FqudTLohMQ9M=   \n",
      "..                                           ...   \n",
      "95  zAUyoymjdueqHuci7EAbSYM488owqqFN6SeDFuw3uuo=   \n",
      "96  Bto5ZzrtG8X6LzCCfzpId850PJQmjMifTjPC5O+w1RA=   \n",
      "97  yrrF+1dNUMZE7yLZhtg3NqS8B+ojU/6NcD0nNbkXCBk=   \n",
      "98  G90HiI5CPSfbsw7s9DSebOcYuSfukMkKnF7zCk9/VEU=   \n",
      "99  TPWFU83H73cYFvzSJXHlkybpbc3xFBlMLQyr1o4BRnA=   \n",
      "\n",
      "                                               7  \n",
      "0   wAmgn2H74cdoMuSFwJF3NaUEaudVBTZ0/HaNZBwIpEQ=  \n",
      "1   ShNjeaoUeqGV2i9WMKEX9HTeuc9K2Fdfovibt7Mp6qI=  \n",
      "2   1A2GM17AzHRcKJcJet/oIF7FOORyFcAOcUSpR9Fqou8=  \n",
      "3   seczVo7MBfi/kH3+eH/40Hxs0l2YKFtXFnamcvMjSQI=  \n",
      "4   OEeQsaVr4kdGHFwQ2liQlDZ18529HEMmu6B6/3K1cBA=  \n",
      "..                                           ...  \n",
      "95  tDwpraMyIQ7vIgGsq+VK+vJNnBgJ5aGuZWwmKyS6WSA=  \n",
      "96  Ypmsy9RiRL/wO7S9+haF8PPFMPUn0rVyOzQHBzWaUHA=  \n",
      "97  JhArrPHnW+t6/0QsemsSs1Pp2iJhAu5R3MgKu4PIfes=  \n",
      "98  /GG5SMQLDnF9OhXnFL2A/PwGtKGuaB2kAFiCI/SVQbo=  \n",
      "99  aRtKzTxF3qBvhobEtVoxYYipkwQzzp5O36yYzidbOiQ=  \n",
      "\n",
      "[100 rows x 8 columns]\n"
     ]
    }
   ],
   "source": [
    "# read this csv file, remember to put the full path to \n",
    "# the directory where you saved the data\n",
    "# df is DataFrame object\n",
    "df = pd.read_csv (r'C:\\Users\\Qinghua\\Desktop\\2\\111AAAProject\\data\\newData\\clusterdata-2011-2\\job_events\\part-00000-of-00500.csv',header=None, nrows=100)\n",
    "print (df)    # see the first 5 rows of the loaded table"
   ]
  },
  {
   "cell_type": "code",
   "execution_count": 6,
   "metadata": {},
   "outputs": [],
   "source": [
    "# add header\n",
    "df.columns = [\"time\", \"missing info\", \"job ID\", \"event type\", \"user\", \"scheduling class\", \"job name\", \"logical job name\"]"
   ]
  },
  {
   "cell_type": "code",
   "execution_count": 15,
   "metadata": {},
   "outputs": [
    {
     "name": "stdout",
     "output_type": "stream",
     "text": [
      "   time  missing info   job ID  event type  \\\n",
      "0     0           NaN  3418309           0   \n",
      "1     0           NaN  3418314           0   \n",
      "2     0           NaN  3418319           0   \n",
      "3     0           NaN  3418324           0   \n",
      "4     0           NaN  3418329           0   \n",
      "\n",
      "                                           user  scheduling class  \\\n",
      "0  70s3v5qRyCO/1PCdI6fVXnrW8FU/w+5CKRSa72xgcIo=                 3   \n",
      "1  70s3v5qRyCO/1PCdI6fVXnrW8FU/w+5CKRSa72xgcIo=                 3   \n",
      "2  70s3v5qRyCO/1PCdI6fVXnrW8FU/w+5CKRSa72xgcIo=                 3   \n",
      "3  70s3v5qRyCO/1PCdI6fVXnrW8FU/w+5CKRSa72xgcIo=                 3   \n",
      "4  70s3v5qRyCO/1PCdI6fVXnrW8FU/w+5CKRSa72xgcIo=                 3   \n",
      "\n",
      "                                       job name  \\\n",
      "0  IHgtoxEBuUTHNbUeVs4hzptMY4n8rZKLbZg+Jh5fNG4=   \n",
      "1  L52XDyhi9x9ChmVBZ1qavOFmnzPeVsvQ2QyGmBZcV4s=   \n",
      "2  vq0IN3BWEbkDjYgYvkrVyH6OWoUoDwFFf3j/syEZzLA=   \n",
      "3  X+Vce15Yu3BCKb7Ttc6hvINAzdfG3NtYEDNNsPdMGKo=   \n",
      "4  EeK3DUWYi1P0vgBTp7wZdUos8UKj/+/FqudTLohMQ9M=   \n",
      "\n",
      "                               logical job name  \n",
      "0  wAmgn2H74cdoMuSFwJF3NaUEaudVBTZ0/HaNZBwIpEQ=  \n",
      "1  ShNjeaoUeqGV2i9WMKEX9HTeuc9K2Fdfovibt7Mp6qI=  \n",
      "2  1A2GM17AzHRcKJcJet/oIF7FOORyFcAOcUSpR9Fqou8=  \n",
      "3  seczVo7MBfi/kH3+eH/40Hxs0l2YKFtXFnamcvMjSQI=  \n",
      "4  OEeQsaVr4kdGHFwQ2liQlDZ18529HEMmu6B6/3K1cBA=  \n"
     ]
    }
   ],
   "source": [
    "print (df.head()) "
   ]
  },
  {
   "cell_type": "code",
   "execution_count": 20,
   "metadata": {},
   "outputs": [],
   "source": [
    "job_events = df.dropna(thresh=2)"
   ]
  },
  {
   "cell_type": "code",
   "execution_count": 21,
   "metadata": {},
   "outputs": [
    {
     "name": "stdout",
     "output_type": "stream",
     "text": [
      "    time  missing info     job ID  event type  \\\n",
      "0      0           NaN    3418309           0   \n",
      "1      0           NaN    3418314           0   \n",
      "2      0           NaN    3418319           0   \n",
      "3      0           NaN    3418324           0   \n",
      "4      0           NaN    3418329           0   \n",
      "..   ...           ...        ...         ...   \n",
      "95     0           NaN  595842024           0   \n",
      "96     0           NaN  609252510           0   \n",
      "97     0           NaN  609252512           0   \n",
      "98     0           NaN  609252514           0   \n",
      "99     0           NaN  609252516           0   \n",
      "\n",
      "                                            user  scheduling class  \\\n",
      "0   70s3v5qRyCO/1PCdI6fVXnrW8FU/w+5CKRSa72xgcIo=                 3   \n",
      "1   70s3v5qRyCO/1PCdI6fVXnrW8FU/w+5CKRSa72xgcIo=                 3   \n",
      "2   70s3v5qRyCO/1PCdI6fVXnrW8FU/w+5CKRSa72xgcIo=                 3   \n",
      "3   70s3v5qRyCO/1PCdI6fVXnrW8FU/w+5CKRSa72xgcIo=                 3   \n",
      "4   70s3v5qRyCO/1PCdI6fVXnrW8FU/w+5CKRSa72xgcIo=                 3   \n",
      "..                                           ...               ...   \n",
      "95  ZUNwIYC0XEQe353zPNrBI/+i8m+m7KnqQTNEBhAL7dY=                 0   \n",
      "96  5vPHh8lVMgN6Bzkhe69G0RgnMRWbFSBd9PBrK5S7cg4=                 2   \n",
      "97  5vPHh8lVMgN6Bzkhe69G0RgnMRWbFSBd9PBrK5S7cg4=                 2   \n",
      "98  5vPHh8lVMgN6Bzkhe69G0RgnMRWbFSBd9PBrK5S7cg4=                 2   \n",
      "99  5vPHh8lVMgN6Bzkhe69G0RgnMRWbFSBd9PBrK5S7cg4=                 2   \n",
      "\n",
      "                                        job name  \\\n",
      "0   IHgtoxEBuUTHNbUeVs4hzptMY4n8rZKLbZg+Jh5fNG4=   \n",
      "1   L52XDyhi9x9ChmVBZ1qavOFmnzPeVsvQ2QyGmBZcV4s=   \n",
      "2   vq0IN3BWEbkDjYgYvkrVyH6OWoUoDwFFf3j/syEZzLA=   \n",
      "3   X+Vce15Yu3BCKb7Ttc6hvINAzdfG3NtYEDNNsPdMGKo=   \n",
      "4   EeK3DUWYi1P0vgBTp7wZdUos8UKj/+/FqudTLohMQ9M=   \n",
      "..                                           ...   \n",
      "95  zAUyoymjdueqHuci7EAbSYM488owqqFN6SeDFuw3uuo=   \n",
      "96  Bto5ZzrtG8X6LzCCfzpId850PJQmjMifTjPC5O+w1RA=   \n",
      "97  yrrF+1dNUMZE7yLZhtg3NqS8B+ojU/6NcD0nNbkXCBk=   \n",
      "98  G90HiI5CPSfbsw7s9DSebOcYuSfukMkKnF7zCk9/VEU=   \n",
      "99  TPWFU83H73cYFvzSJXHlkybpbc3xFBlMLQyr1o4BRnA=   \n",
      "\n",
      "                                logical job name  \n",
      "0   wAmgn2H74cdoMuSFwJF3NaUEaudVBTZ0/HaNZBwIpEQ=  \n",
      "1   ShNjeaoUeqGV2i9WMKEX9HTeuc9K2Fdfovibt7Mp6qI=  \n",
      "2   1A2GM17AzHRcKJcJet/oIF7FOORyFcAOcUSpR9Fqou8=  \n",
      "3   seczVo7MBfi/kH3+eH/40Hxs0l2YKFtXFnamcvMjSQI=  \n",
      "4   OEeQsaVr4kdGHFwQ2liQlDZ18529HEMmu6B6/3K1cBA=  \n",
      "..                                           ...  \n",
      "95  tDwpraMyIQ7vIgGsq+VK+vJNnBgJ5aGuZWwmKyS6WSA=  \n",
      "96  Ypmsy9RiRL/wO7S9+haF8PPFMPUn0rVyOzQHBzWaUHA=  \n",
      "97  JhArrPHnW+t6/0QsemsSs1Pp2iJhAu5R3MgKu4PIfes=  \n",
      "98  /GG5SMQLDnF9OhXnFL2A/PwGtKGuaB2kAFiCI/SVQbo=  \n",
      "99  aRtKzTxF3qBvhobEtVoxYYipkwQzzp5O36yYzidbOiQ=  \n",
      "\n",
      "[100 rows x 8 columns]\n"
     ]
    }
   ],
   "source": [
    "print (job_events) "
   ]
  },
  {
   "cell_type": "code",
   "execution_count": 23,
   "metadata": {},
   "outputs": [],
   "source": [
    "machine_attributes = pd.read_csv (r'C:\\Users\\Qinghua\\Desktop\\2\\111AAAProject\\data\\newData\\clusterdata-2011-2\\machine_attributes\\part-00000-of-00001.csv',header=None, nrows=100)"
   ]
  },
  {
   "cell_type": "code",
   "execution_count": 24,
   "metadata": {},
   "outputs": [
    {
     "name": "stdout",
     "output_type": "stream",
     "text": [
      "   time  machine ID                                attribute name  \\\n",
      "0     0           5  +8aLrMrUBQLYLD4Ndxi/ZmwwKGhtFGskL8ZSdChYMdo=   \n",
      "1     0           5  4chZqkETND7f4XrzdWLe8c1eLHKuYgjnUMSV+83EYFA=   \n",
      "2     0           5  5dEuieuWMFy+CNMBBf/uXNX5nP4Kgzeu0O6UizRNK3w=   \n",
      "3     0           5  81Cd14q4ebyI/3TPkkIwGYlB/mvKhBUk3e/E8egb4s0=   \n",
      "4     0           5  9eCGRtl6XN5GQoOYGEjKtupBbtUoOaOPYRFw+pzH7IU=   \n",
      "\n",
      "  attribute value  attribute deleted  \n",
      "0               1                  0  \n",
      "1               1                  0  \n",
      "2               2                  0  \n",
      "3               2                  0  \n",
      "4               2                  0  \n"
     ]
    }
   ],
   "source": [
    "machine_attributes.columns = [\"time\", \"machine ID\", \"attribute name\", \"attribute value\", \"attribute deleted\"]\n",
    "print (machine_attributes.head())"
   ]
  },
  {
   "cell_type": "code",
   "execution_count": 31,
   "metadata": {},
   "outputs": [],
   "source": [
    "df2 = pd.read_csv (r'C:\\Users\\Qinghua\\Desktop\\2\\111AAAProject\\data\\newData\\clusterdata-2011-2\\machine_events\\part-00000-of-00001.csv',header=None, nrows=100)"
   ]
  },
  {
   "cell_type": "code",
   "execution_count": 32,
   "metadata": {},
   "outputs": [
    {
     "name": "stdout",
     "output_type": "stream",
     "text": [
      "    time  machine ID  event type  \\\n",
      "0      0           5           0   \n",
      "1      0           6           0   \n",
      "2      0           7           0   \n",
      "3      0          10           0   \n",
      "4      0          13           0   \n",
      "..   ...         ...         ...   \n",
      "95     0      421569           0   \n",
      "96     0      421571           0   \n",
      "97     0      421574           0   \n",
      "98     0      421578           0   \n",
      "99     0      421587           0   \n",
      "\n",
      "                                     platform ID  CPUs  Memory  \n",
      "0   HofLGzk1Or/8Ildj2+Lqv0UGGvY82NLoni8+J/Yy0RU=   0.5  0.2493  \n",
      "1   HofLGzk1Or/8Ildj2+Lqv0UGGvY82NLoni8+J/Yy0RU=   0.5  0.2493  \n",
      "2   HofLGzk1Or/8Ildj2+Lqv0UGGvY82NLoni8+J/Yy0RU=   0.5  0.2493  \n",
      "3   HofLGzk1Or/8Ildj2+Lqv0UGGvY82NLoni8+J/Yy0RU=   0.5  0.2493  \n",
      "4   HofLGzk1Or/8Ildj2+Lqv0UGGvY82NLoni8+J/Yy0RU=   0.5  0.2493  \n",
      "..                                           ...   ...     ...  \n",
      "95  HofLGzk1Or/8Ildj2+Lqv0UGGvY82NLoni8+J/Yy0RU=   0.5  0.4995  \n",
      "96  HofLGzk1Or/8Ildj2+Lqv0UGGvY82NLoni8+J/Yy0RU=   0.5  0.4995  \n",
      "97  HofLGzk1Or/8Ildj2+Lqv0UGGvY82NLoni8+J/Yy0RU=   0.5  0.4995  \n",
      "98  HofLGzk1Or/8Ildj2+Lqv0UGGvY82NLoni8+J/Yy0RU=   0.5  0.4995  \n",
      "99  HofLGzk1Or/8Ildj2+Lqv0UGGvY82NLoni8+J/Yy0RU=   0.5  0.4995  \n",
      "\n",
      "[100 rows x 6 columns]\n"
     ]
    }
   ],
   "source": [
    "df2.columns = [\"time\", \"machine ID\", \"event type\", \"platform ID\", \"CPUs\",\"Memory\"]\n",
    "print (df2)"
   ]
  },
  {
   "cell_type": "code",
   "execution_count": 33,
   "metadata": {},
   "outputs": [
    {
     "name": "stdout",
     "output_type": "stream",
     "text": [
      "    time  machine ID  event type  \\\n",
      "0      0           5           0   \n",
      "1      0           6           0   \n",
      "2      0           7           0   \n",
      "3      0          10           0   \n",
      "4      0          13           0   \n",
      "..   ...         ...         ...   \n",
      "95     0      421569           0   \n",
      "96     0      421571           0   \n",
      "97     0      421574           0   \n",
      "98     0      421578           0   \n",
      "99     0      421587           0   \n",
      "\n",
      "                                     platform ID  CPUs  Memory  \n",
      "0   HofLGzk1Or/8Ildj2+Lqv0UGGvY82NLoni8+J/Yy0RU=   0.5  0.2493  \n",
      "1   HofLGzk1Or/8Ildj2+Lqv0UGGvY82NLoni8+J/Yy0RU=   0.5  0.2493  \n",
      "2   HofLGzk1Or/8Ildj2+Lqv0UGGvY82NLoni8+J/Yy0RU=   0.5  0.2493  \n",
      "3   HofLGzk1Or/8Ildj2+Lqv0UGGvY82NLoni8+J/Yy0RU=   0.5  0.2493  \n",
      "4   HofLGzk1Or/8Ildj2+Lqv0UGGvY82NLoni8+J/Yy0RU=   0.5  0.2493  \n",
      "..                                           ...   ...     ...  \n",
      "95  HofLGzk1Or/8Ildj2+Lqv0UGGvY82NLoni8+J/Yy0RU=   0.5  0.4995  \n",
      "96  HofLGzk1Or/8Ildj2+Lqv0UGGvY82NLoni8+J/Yy0RU=   0.5  0.4995  \n",
      "97  HofLGzk1Or/8Ildj2+Lqv0UGGvY82NLoni8+J/Yy0RU=   0.5  0.4995  \n",
      "98  HofLGzk1Or/8Ildj2+Lqv0UGGvY82NLoni8+J/Yy0RU=   0.5  0.4995  \n",
      "99  HofLGzk1Or/8Ildj2+Lqv0UGGvY82NLoni8+J/Yy0RU=   0.5  0.4995  \n",
      "\n",
      "[100 rows x 6 columns]\n"
     ]
    }
   ],
   "source": [
    "machine_events = df2.dropna()\n",
    "print (machine_events)"
   ]
  },
  {
   "cell_type": "code",
   "execution_count": 38,
   "metadata": {},
   "outputs": [],
   "source": [
    "df3 = pd.read_csv (r'C:\\Users\\Qinghua\\Desktop\\2\\111AAAProject\\data\\newData\\clusterdata-2011-2\\task_constraints\\part-00000-of-00500.csv',header=None, nrows=100)"
   ]
  },
  {
   "cell_type": "code",
   "execution_count": 39,
   "metadata": {},
   "outputs": [
    {
     "name": "stdout",
     "output_type": "stream",
     "text": [
      "    time    job ID  task index  comparison operator  \\\n",
      "0      0   3418314           0                    1   \n",
      "1      0   3418314           0                    0   \n",
      "2      0   3418314           1                    1   \n",
      "3      0   3418314           1                    0   \n",
      "4      0   3418368           0                    1   \n",
      "..   ...       ...         ...                  ...   \n",
      "95     0  17109330          12                    0   \n",
      "96     0  17109330          13                    1   \n",
      "97     0  17109330          13                    0   \n",
      "98     0  17109330          14                    1   \n",
      "99     0  17109330          14                    0   \n",
      "\n",
      "                                  attribute name  attribute value  \n",
      "0   mansM6bIlckDBqXz7zIl+IJeUAIfrXYa5wIgb3fzoO8=              0.0  \n",
      "1   o/0PSEOQ9jWyzNMXehU3dXqePQIE2QxyxyknZMT1k4c=              NaN  \n",
      "2   mansM6bIlckDBqXz7zIl+IJeUAIfrXYa5wIgb3fzoO8=              0.0  \n",
      "3   o/0PSEOQ9jWyzNMXehU3dXqePQIE2QxyxyknZMT1k4c=              NaN  \n",
      "4   mansM6bIlckDBqXz7zIl+IJeUAIfrXYa5wIgb3fzoO8=              0.0  \n",
      "..                                           ...              ...  \n",
      "95  o/0PSEOQ9jWyzNMXehU3dXqePQIE2QxyxyknZMT1k4c=              NaN  \n",
      "96  mansM6bIlckDBqXz7zIl+IJeUAIfrXYa5wIgb3fzoO8=              0.0  \n",
      "97  o/0PSEOQ9jWyzNMXehU3dXqePQIE2QxyxyknZMT1k4c=              NaN  \n",
      "98  mansM6bIlckDBqXz7zIl+IJeUAIfrXYa5wIgb3fzoO8=              0.0  \n",
      "99  o/0PSEOQ9jWyzNMXehU3dXqePQIE2QxyxyknZMT1k4c=              NaN  \n",
      "\n",
      "[100 rows x 6 columns]\n"
     ]
    }
   ],
   "source": [
    "df3.columns = [\"time\", \"job ID\", \"task index\", \"comparison operator\", \"attribute name\",\"attribute value\"]\n",
    "print (df3)"
   ]
  },
  {
   "cell_type": "code",
   "execution_count": 40,
   "metadata": {},
   "outputs": [
    {
     "name": "stdout",
     "output_type": "stream",
     "text": [
      "    time    job ID  task index  comparison operator  \\\n",
      "0      0   3418314           0                    1   \n",
      "2      0   3418314           1                    1   \n",
      "4      0   3418368           0                    1   \n",
      "6      0   3418368           1                    1   \n",
      "8      0   3418368           2                    1   \n",
      "10     0   3418375           0                    1   \n",
      "12     0   3418380           0                    1   \n",
      "14     0   3418380           1                    1   \n",
      "16     0   3418400           0                    1   \n",
      "18     0   3418400           1                    1   \n",
      "20     0   3418405           0                    1   \n",
      "22     0   3418405           1                    1   \n",
      "24     0   3418405           2                    1   \n",
      "26     0   3418405           3                    1   \n",
      "28     0   3418412           0                    1   \n",
      "30     0   3418412           1                    1   \n",
      "32     0   3418417           0                    1   \n",
      "34     0   3418417           1                    1   \n",
      "36     0   3418427           0                    1   \n",
      "38     0   3418427           1                    1   \n",
      "40     0   3418432           0                    1   \n",
      "42     0   3418432           1                    1   \n",
      "44     0   3418437           0                    1   \n",
      "46     0   3418437           1                    1   \n",
      "48     0   6590371           0                    1   \n",
      "50     0   6590371           1                    1   \n",
      "52     0   6590376           0                    1   \n",
      "54     0   6590376           1                    1   \n",
      "56     0   6590391           0                    1   \n",
      "58     0   6590391           1                    1   \n",
      "60     0   6724949           0                    1   \n",
      "62     0   6724949           1                    1   \n",
      "64     0   7053513           0                    2   \n",
      "66     0   7053513           1                    2   \n",
      "68     0   7053513           2                    2   \n",
      "70     0  17109330           0                    1   \n",
      "72     0  17109330           1                    1   \n",
      "74     0  17109330           2                    1   \n",
      "76     0  17109330           3                    1   \n",
      "78     0  17109330           4                    1   \n",
      "80     0  17109330           5                    1   \n",
      "82     0  17109330           6                    1   \n",
      "84     0  17109330           7                    1   \n",
      "86     0  17109330           8                    1   \n",
      "88     0  17109330           9                    1   \n",
      "90     0  17109330          10                    1   \n",
      "92     0  17109330          11                    1   \n",
      "94     0  17109330          12                    1   \n",
      "96     0  17109330          13                    1   \n",
      "98     0  17109330          14                    1   \n",
      "\n",
      "                                  attribute name  attribute value  \n",
      "0   mansM6bIlckDBqXz7zIl+IJeUAIfrXYa5wIgb3fzoO8=              0.0  \n",
      "2   mansM6bIlckDBqXz7zIl+IJeUAIfrXYa5wIgb3fzoO8=              0.0  \n",
      "4   mansM6bIlckDBqXz7zIl+IJeUAIfrXYa5wIgb3fzoO8=              0.0  \n",
      "6   mansM6bIlckDBqXz7zIl+IJeUAIfrXYa5wIgb3fzoO8=              0.0  \n",
      "8   mansM6bIlckDBqXz7zIl+IJeUAIfrXYa5wIgb3fzoO8=              0.0  \n",
      "10  mansM6bIlckDBqXz7zIl+IJeUAIfrXYa5wIgb3fzoO8=              0.0  \n",
      "12  mansM6bIlckDBqXz7zIl+IJeUAIfrXYa5wIgb3fzoO8=              0.0  \n",
      "14  mansM6bIlckDBqXz7zIl+IJeUAIfrXYa5wIgb3fzoO8=              0.0  \n",
      "16  mansM6bIlckDBqXz7zIl+IJeUAIfrXYa5wIgb3fzoO8=              0.0  \n",
      "18  mansM6bIlckDBqXz7zIl+IJeUAIfrXYa5wIgb3fzoO8=              0.0  \n",
      "20  mansM6bIlckDBqXz7zIl+IJeUAIfrXYa5wIgb3fzoO8=              0.0  \n",
      "22  mansM6bIlckDBqXz7zIl+IJeUAIfrXYa5wIgb3fzoO8=              0.0  \n",
      "24  mansM6bIlckDBqXz7zIl+IJeUAIfrXYa5wIgb3fzoO8=              0.0  \n",
      "26  mansM6bIlckDBqXz7zIl+IJeUAIfrXYa5wIgb3fzoO8=              0.0  \n",
      "28  mansM6bIlckDBqXz7zIl+IJeUAIfrXYa5wIgb3fzoO8=              0.0  \n",
      "30  mansM6bIlckDBqXz7zIl+IJeUAIfrXYa5wIgb3fzoO8=              0.0  \n",
      "32  mansM6bIlckDBqXz7zIl+IJeUAIfrXYa5wIgb3fzoO8=              0.0  \n",
      "34  mansM6bIlckDBqXz7zIl+IJeUAIfrXYa5wIgb3fzoO8=              0.0  \n",
      "36  mansM6bIlckDBqXz7zIl+IJeUAIfrXYa5wIgb3fzoO8=              0.0  \n",
      "38  mansM6bIlckDBqXz7zIl+IJeUAIfrXYa5wIgb3fzoO8=              0.0  \n",
      "40  mansM6bIlckDBqXz7zIl+IJeUAIfrXYa5wIgb3fzoO8=              0.0  \n",
      "42  mansM6bIlckDBqXz7zIl+IJeUAIfrXYa5wIgb3fzoO8=              0.0  \n",
      "44  mansM6bIlckDBqXz7zIl+IJeUAIfrXYa5wIgb3fzoO8=              0.0  \n",
      "46  mansM6bIlckDBqXz7zIl+IJeUAIfrXYa5wIgb3fzoO8=              0.0  \n",
      "48  mansM6bIlckDBqXz7zIl+IJeUAIfrXYa5wIgb3fzoO8=              0.0  \n",
      "50  mansM6bIlckDBqXz7zIl+IJeUAIfrXYa5wIgb3fzoO8=              0.0  \n",
      "52  mansM6bIlckDBqXz7zIl+IJeUAIfrXYa5wIgb3fzoO8=              0.0  \n",
      "54  mansM6bIlckDBqXz7zIl+IJeUAIfrXYa5wIgb3fzoO8=              0.0  \n",
      "56  mansM6bIlckDBqXz7zIl+IJeUAIfrXYa5wIgb3fzoO8=              0.0  \n",
      "58  mansM6bIlckDBqXz7zIl+IJeUAIfrXYa5wIgb3fzoO8=              0.0  \n",
      "60  mansM6bIlckDBqXz7zIl+IJeUAIfrXYa5wIgb3fzoO8=              0.0  \n",
      "62  mansM6bIlckDBqXz7zIl+IJeUAIfrXYa5wIgb3fzoO8=              0.0  \n",
      "64  QlHb0NMTSytpaiRqXo9rzLE+wu5f7Cx4uvIm3KZc8lQ=              7.0  \n",
      "66  QlHb0NMTSytpaiRqXo9rzLE+wu5f7Cx4uvIm3KZc8lQ=              7.0  \n",
      "68  QlHb0NMTSytpaiRqXo9rzLE+wu5f7Cx4uvIm3KZc8lQ=              7.0  \n",
      "70  mansM6bIlckDBqXz7zIl+IJeUAIfrXYa5wIgb3fzoO8=              0.0  \n",
      "72  mansM6bIlckDBqXz7zIl+IJeUAIfrXYa5wIgb3fzoO8=              0.0  \n",
      "74  mansM6bIlckDBqXz7zIl+IJeUAIfrXYa5wIgb3fzoO8=              0.0  \n",
      "76  mansM6bIlckDBqXz7zIl+IJeUAIfrXYa5wIgb3fzoO8=              0.0  \n",
      "78  mansM6bIlckDBqXz7zIl+IJeUAIfrXYa5wIgb3fzoO8=              0.0  \n",
      "80  mansM6bIlckDBqXz7zIl+IJeUAIfrXYa5wIgb3fzoO8=              0.0  \n",
      "82  mansM6bIlckDBqXz7zIl+IJeUAIfrXYa5wIgb3fzoO8=              0.0  \n",
      "84  mansM6bIlckDBqXz7zIl+IJeUAIfrXYa5wIgb3fzoO8=              0.0  \n",
      "86  mansM6bIlckDBqXz7zIl+IJeUAIfrXYa5wIgb3fzoO8=              0.0  \n",
      "88  mansM6bIlckDBqXz7zIl+IJeUAIfrXYa5wIgb3fzoO8=              0.0  \n",
      "90  mansM6bIlckDBqXz7zIl+IJeUAIfrXYa5wIgb3fzoO8=              0.0  \n",
      "92  mansM6bIlckDBqXz7zIl+IJeUAIfrXYa5wIgb3fzoO8=              0.0  \n",
      "94  mansM6bIlckDBqXz7zIl+IJeUAIfrXYa5wIgb3fzoO8=              0.0  \n",
      "96  mansM6bIlckDBqXz7zIl+IJeUAIfrXYa5wIgb3fzoO8=              0.0  \n",
      "98  mansM6bIlckDBqXz7zIl+IJeUAIfrXYa5wIgb3fzoO8=              0.0  \n"
     ]
    }
   ],
   "source": [
    "task_constraints = df3.dropna()\n",
    "print (task_constraints)"
   ]
  },
  {
   "cell_type": "code",
   "execution_count": 61,
   "metadata": {},
   "outputs": [
    {
     "name": "stdout",
     "output_type": "stream",
     "text": [
      "   time   job ID  task index  comparison operator  \\\n",
      "0     0  3418314           0                    1   \n",
      "2     0  3418314           1                    1   \n",
      "4     0  3418368           0                    1   \n",
      "6     0  3418368           1                    1   \n",
      "8     0  3418368           2                    1   \n",
      "\n",
      "                                 attribute name  attribute value  \n",
      "0  mansM6bIlckDBqXz7zIl+IJeUAIfrXYa5wIgb3fzoO8=              0.0  \n",
      "2  mansM6bIlckDBqXz7zIl+IJeUAIfrXYa5wIgb3fzoO8=              0.0  \n",
      "4  mansM6bIlckDBqXz7zIl+IJeUAIfrXYa5wIgb3fzoO8=              0.0  \n",
      "6  mansM6bIlckDBqXz7zIl+IJeUAIfrXYa5wIgb3fzoO8=              0.0  \n",
      "8  mansM6bIlckDBqXz7zIl+IJeUAIfrXYa5wIgb3fzoO8=              0.0  \n"
     ]
    }
   ],
   "source": [
    "print (task_constraints.head())"
   ]
  },
  {
   "cell_type": "code",
   "execution_count": 51,
   "metadata": {},
   "outputs": [],
   "source": [
    "df4 = pd.read_csv (r'C:\\Users\\Qinghua\\Desktop\\2\\111AAAProject\\data\\newData\\clusterdata-2011-2\\task_events\\part-00000-of-00500.csv',header=None, nrows=100)"
   ]
  },
  {
   "cell_type": "code",
   "execution_count": 52,
   "metadata": {},
   "outputs": [],
   "source": [
    "df4.columns = [\"time\", \"missing info\", \"job ID\", \"task index\", \"machine ID\",\"event type\", \"user\", \"scheduling class\", \"priority\", \"CPU request\", \"memory request\", \"disk space request\", \"different machines restriction\"]"
   ]
  },
  {
   "cell_type": "code",
   "execution_count": 53,
   "metadata": {},
   "outputs": [
    {
     "name": "stdout",
     "output_type": "stream",
     "text": [
      "    time   job ID  task index  event type  scheduling class  priority  \\\n",
      "0      0  3418309           0           0                 3         9   \n",
      "1      0  3418309           1           0                 3         9   \n",
      "2      0  3418314           0           0                 3         9   \n",
      "3      0  3418314           1           0                 3         9   \n",
      "4      0  3418319           0           0                 3         9   \n",
      "..   ...      ...         ...         ...               ...       ...   \n",
      "95     0  6590391           0           0                 3         9   \n",
      "96     0  6590391           1           0                 3         9   \n",
      "97     0  6724944           0           0                 3         9   \n",
      "98     0  6724944           1           0                 3         9   \n",
      "99     0  6724949           0           0                 3         9   \n",
      "\n",
      "    CPU request  memory request  disk space request  \n",
      "0           NaN             NaN                 NaN  \n",
      "1           NaN             NaN                 NaN  \n",
      "2       0.12500         0.07446            0.000424  \n",
      "3       0.12500         0.07446            0.000424  \n",
      "4           NaN             NaN                 NaN  \n",
      "..          ...             ...                 ...  \n",
      "95      0.03125         0.08765            0.000470  \n",
      "96      0.03125         0.08765            0.000470  \n",
      "97          NaN             NaN                 NaN  \n",
      "98          NaN             NaN                 NaN  \n",
      "99      0.03125         0.08472            0.000463  \n",
      "\n",
      "[100 rows x 9 columns]\n"
     ]
    }
   ],
   "source": [
    "task_event = df4[['time', 'job ID', 'task index', 'event type', 'scheduling class', 'priority', 'CPU request', 'memory request', 'disk space request']] \n",
    "print (task_event)"
   ]
  },
  {
   "cell_type": "code",
   "execution_count": 54,
   "metadata": {},
   "outputs": [],
   "source": [
    "task_events = task_event.dropna(subset=['CPU request', 'memory request', 'disk space request'])"
   ]
  },
  {
   "cell_type": "code",
   "execution_count": 55,
   "metadata": {},
   "outputs": [
    {
     "name": "stdout",
     "output_type": "stream",
     "text": [
      "    time   job ID  task index  event type  scheduling class  priority  \\\n",
      "2      0  3418314           0           0                 3         9   \n",
      "3      0  3418314           1           0                 3         9   \n",
      "45     0  3418368           0           0                 3         9   \n",
      "46     0  3418368           1           0                 3         9   \n",
      "47     0  3418368           2           0                 3         9   \n",
      "48     0  3418375           0           0                 3         9   \n",
      "50     0  3418380           0           0                 3         9   \n",
      "51     0  3418380           1           0                 3         9   \n",
      "61     0  3418400           0           0                 3         9   \n",
      "62     0  3418400           1           0                 3         9   \n",
      "63     0  3418405           0           0                 3         9   \n",
      "64     0  3418405           1           0                 3         9   \n",
      "65     0  3418405           2           0                 3         9   \n",
      "66     0  3418405           3           0                 3         9   \n",
      "67     0  3418412           0           0                 3         9   \n",
      "68     0  3418412           1           0                 3         9   \n",
      "69     0  3418417           0           0                 3         9   \n",
      "70     0  3418417           1           0                 3         9   \n",
      "73     0  3418427           0           0                 3         9   \n",
      "74     0  3418427           1           0                 3         9   \n",
      "75     0  3418432           0           0                 3         9   \n",
      "76     0  3418432           1           0                 3         9   \n",
      "77     0  3418437           0           0                 3         9   \n",
      "78     0  3418437           1           0                 3         9   \n",
      "87     0  6590371           0           0                 3         9   \n",
      "88     0  6590371           1           0                 3         9   \n",
      "89     0  6590376           0           0                 3         9   \n",
      "90     0  6590376           1           0                 3         9   \n",
      "95     0  6590391           0           0                 3         9   \n",
      "96     0  6590391           1           0                 3         9   \n",
      "99     0  6724949           0           0                 3         9   \n",
      "\n",
      "    CPU request  memory request  disk space request  \n",
      "2       0.12500         0.07446            0.000424  \n",
      "3       0.12500         0.07446            0.000424  \n",
      "45      0.03125         0.08691            0.000455  \n",
      "46      0.03125         0.08691            0.000455  \n",
      "47      0.03125         0.08691            0.000455  \n",
      "48      0.06250         0.09277            0.000494  \n",
      "50      0.18750         0.09839            0.000861  \n",
      "51      0.18750         0.09839            0.000861  \n",
      "61      0.12500         0.09082            0.000470  \n",
      "62      0.12500         0.09082            0.000470  \n",
      "63      0.06250         0.09277            0.000494  \n",
      "64      0.06250         0.09277            0.000494  \n",
      "65      0.06250         0.09277            0.000494  \n",
      "66      0.06250         0.09277            0.000494  \n",
      "67      0.12500         0.09021            0.000821  \n",
      "68      0.12500         0.09021            0.000821  \n",
      "69      0.18750         0.09106            0.000829  \n",
      "70      0.18750         0.09106            0.000829  \n",
      "73      0.12500         0.08691            0.000470  \n",
      "74      0.12500         0.08691            0.000470  \n",
      "75      0.06250         0.09473            0.000470  \n",
      "76      0.06250         0.09473            0.000470  \n",
      "77      0.06250         0.09485            0.000494  \n",
      "78      0.06250         0.09485            0.000494  \n",
      "87      0.18750         0.01590            0.000071  \n",
      "88      0.18750         0.01590            0.000071  \n",
      "89      0.06250         0.12400            0.000545  \n",
      "90      0.06250         0.12400            0.000545  \n",
      "95      0.03125         0.08765            0.000470  \n",
      "96      0.03125         0.08765            0.000470  \n",
      "99      0.03125         0.08472            0.000463  \n"
     ]
    }
   ],
   "source": [
    "print (task_events)"
   ]
  },
  {
   "cell_type": "code",
   "execution_count": 62,
   "metadata": {},
   "outputs": [
    {
     "name": "stdout",
     "output_type": "stream",
     "text": [
      "    time   job ID  task index  event type  scheduling class  priority  \\\n",
      "2      0  3418314           0           0                 3         9   \n",
      "3      0  3418314           1           0                 3         9   \n",
      "45     0  3418368           0           0                 3         9   \n",
      "46     0  3418368           1           0                 3         9   \n",
      "47     0  3418368           2           0                 3         9   \n",
      "\n",
      "    CPU request  memory request  disk space request  \n",
      "2       0.12500         0.07446            0.000424  \n",
      "3       0.12500         0.07446            0.000424  \n",
      "45      0.03125         0.08691            0.000455  \n",
      "46      0.03125         0.08691            0.000455  \n",
      "47      0.03125         0.08691            0.000455  \n"
     ]
    }
   ],
   "source": [
    "print (task_events.head())"
   ]
  },
  {
   "cell_type": "code",
   "execution_count": 59,
   "metadata": {},
   "outputs": [
    {
     "name": "stdout",
     "output_type": "stream",
     "text": [
      "    start time   end time   job ID  task index  CPU rate  \\\n",
      "0    600000000  900000000  3418309           0  0.001562   \n",
      "1    600000000  900000000  3418309           1  0.001568   \n",
      "2    600000000  900000000  3418314           0  0.000307   \n",
      "3    600000000  900000000  3418314           1  0.000300   \n",
      "4    600000000  900000000  3418319           0  0.000461   \n",
      "..         ...        ...      ...         ...       ...   \n",
      "95   600000000  900000000  6590391           0  0.000464   \n",
      "96   600000000  900000000  6590391           1  0.000482   \n",
      "97   600000000  900000000  6724944           0  0.001270   \n",
      "98   600000000  900000000  6724944           1  0.001160   \n",
      "99   600000000  900000000  6724949           0  0.000271   \n",
      "\n",
      "    canonical memory usage  assigned memory usage  unmapped page cache  \\\n",
      "0                  0.06787                0.07568             0.001156   \n",
      "1                  0.06787                0.07556             0.000319   \n",
      "2                  0.08044                0.09521             0.000282   \n",
      "3                  0.08044                0.09521             0.000537   \n",
      "4                  0.07715                0.08740             0.000625   \n",
      "..                     ...                    ...                  ...   \n",
      "95                 0.09094                0.09912             0.000354   \n",
      "96                 0.09106                0.09912             0.000360   \n",
      "97                 0.07410                0.08545             0.000707   \n",
      "98                 0.07446                0.08545             0.000435   \n",
      "99                 0.07874                0.08740             0.000813   \n",
      "\n",
      "    total page cache  maximum memory usage  local disk space usage  \\\n",
      "0           0.001503               0.06787                0.000187   \n",
      "1           0.000700               0.06787                0.000188   \n",
      "2           0.000670               0.08044                0.000184   \n",
      "3           0.000870               0.08044                0.000183   \n",
      "4           0.000852               0.07715                0.000204   \n",
      "..               ...                   ...                     ...   \n",
      "95          0.000565               0.09094                0.000210   \n",
      "96          0.000584               0.09106                0.000208   \n",
      "97          0.001190               0.07410                0.000196   \n",
      "98          0.000895               0.07446                0.000214   \n",
      "99          0.001236               0.07874                0.000203   \n",
      "\n",
      "    maximum CPU rate  \n",
      "0           0.039670  \n",
      "1           0.033020  \n",
      "2           0.023770  \n",
      "3           0.007919  \n",
      "4           0.005112  \n",
      "..               ...  \n",
      "95          0.006790  \n",
      "96          0.006645  \n",
      "97          0.010190  \n",
      "98          0.009064  \n",
      "99          0.004715  \n",
      "\n",
      "[100 rows x 12 columns]\n"
     ]
    }
   ],
   "source": [
    "df5 = pd.read_csv (r'C:\\Users\\Qinghua\\Desktop\\2\\111AAAProject\\data\\newData\\clusterdata-2011-2\\task_usage\\part-00000-of-00500.csv',header=None, nrows=100)\n",
    "df5.columns = [\"start time\", \"end time\", \"job ID\", \"task index\", \"machine ID\", \"CPU rate\", \"canonical memory usage\"\n",
    "              , \"assigned memory usage\" , \"unmapped page cache\", \"total page cache\", \"maximum memory usage\"\n",
    "              , \"disk I/O time\", \"local disk space usage\", \"maximum CPU rate\", \"maximum disk IO time\"\n",
    "              , \"cycles per instruction\", \"memory accesses per instruction\"\n",
    "              , \"sample portion\", \"aggregation type\", \"sampled CPU usage\"]\n",
    "usage = df5[['start time', 'end time', 'job ID', 'task index', 'CPU rate', 'canonical memory usage', 'assigned memory usage'\n",
    "             , 'unmapped page cache', 'total page cache', 'maximum memory usage', 'local disk space usage', 'maximum CPU rate']] \n",
    "print(usage)"
   ]
  },
  {
   "cell_type": "code",
   "execution_count": 60,
   "metadata": {},
   "outputs": [
    {
     "name": "stdout",
     "output_type": "stream",
     "text": [
      "    start time   end time   job ID  task index  CPU rate  \\\n",
      "0    600000000  900000000  3418309           0  0.001562   \n",
      "1    600000000  900000000  3418309           1  0.001568   \n",
      "2    600000000  900000000  3418314           0  0.000307   \n",
      "3    600000000  900000000  3418314           1  0.000300   \n",
      "4    600000000  900000000  3418319           0  0.000461   \n",
      "..         ...        ...      ...         ...       ...   \n",
      "95   600000000  900000000  6590391           0  0.000464   \n",
      "96   600000000  900000000  6590391           1  0.000482   \n",
      "97   600000000  900000000  6724944           0  0.001270   \n",
      "98   600000000  900000000  6724944           1  0.001160   \n",
      "99   600000000  900000000  6724949           0  0.000271   \n",
      "\n",
      "    canonical memory usage  assigned memory usage  unmapped page cache  \\\n",
      "0                  0.06787                0.07568             0.001156   \n",
      "1                  0.06787                0.07556             0.000319   \n",
      "2                  0.08044                0.09521             0.000282   \n",
      "3                  0.08044                0.09521             0.000537   \n",
      "4                  0.07715                0.08740             0.000625   \n",
      "..                     ...                    ...                  ...   \n",
      "95                 0.09094                0.09912             0.000354   \n",
      "96                 0.09106                0.09912             0.000360   \n",
      "97                 0.07410                0.08545             0.000707   \n",
      "98                 0.07446                0.08545             0.000435   \n",
      "99                 0.07874                0.08740             0.000813   \n",
      "\n",
      "    total page cache  maximum memory usage  local disk space usage  \\\n",
      "0           0.001503               0.06787                0.000187   \n",
      "1           0.000700               0.06787                0.000188   \n",
      "2           0.000670               0.08044                0.000184   \n",
      "3           0.000870               0.08044                0.000183   \n",
      "4           0.000852               0.07715                0.000204   \n",
      "..               ...                   ...                     ...   \n",
      "95          0.000565               0.09094                0.000210   \n",
      "96          0.000584               0.09106                0.000208   \n",
      "97          0.001190               0.07410                0.000196   \n",
      "98          0.000895               0.07446                0.000214   \n",
      "99          0.001236               0.07874                0.000203   \n",
      "\n",
      "    maximum CPU rate  \n",
      "0           0.039670  \n",
      "1           0.033020  \n",
      "2           0.023770  \n",
      "3           0.007919  \n",
      "4           0.005112  \n",
      "..               ...  \n",
      "95          0.006790  \n",
      "96          0.006645  \n",
      "97          0.010190  \n",
      "98          0.009064  \n",
      "99          0.004715  \n",
      "\n",
      "[100 rows x 12 columns]\n"
     ]
    }
   ],
   "source": [
    "task_usage = usage.dropna(subset=['CPU rate', 'canonical memory usage', 'assigned memory usage'])\n",
    "print(task_usage) "
   ]
  },
  {
   "cell_type": "code",
   "execution_count": 63,
   "metadata": {},
   "outputs": [
    {
     "name": "stdout",
     "output_type": "stream",
     "text": [
      "   start time   end time   job ID  task index  CPU rate  \\\n",
      "0   600000000  900000000  3418309           0  0.001562   \n",
      "1   600000000  900000000  3418309           1  0.001568   \n",
      "2   600000000  900000000  3418314           0  0.000307   \n",
      "3   600000000  900000000  3418314           1  0.000300   \n",
      "4   600000000  900000000  3418319           0  0.000461   \n",
      "\n",
      "   canonical memory usage  assigned memory usage  unmapped page cache  \\\n",
      "0                 0.06787                0.07568             0.001156   \n",
      "1                 0.06787                0.07556             0.000319   \n",
      "2                 0.08044                0.09521             0.000282   \n",
      "3                 0.08044                0.09521             0.000537   \n",
      "4                 0.07715                0.08740             0.000625   \n",
      "\n",
      "   total page cache  maximum memory usage  local disk space usage  \\\n",
      "0          0.001503               0.06787                0.000187   \n",
      "1          0.000700               0.06787                0.000188   \n",
      "2          0.000670               0.08044                0.000184   \n",
      "3          0.000870               0.08044                0.000183   \n",
      "4          0.000852               0.07715                0.000204   \n",
      "\n",
      "   maximum CPU rate  \n",
      "0          0.039670  \n",
      "1          0.033020  \n",
      "2          0.023770  \n",
      "3          0.007919  \n",
      "4          0.005112  \n"
     ]
    }
   ],
   "source": [
    "print(task_usage.head()) "
   ]
  },
  {
   "cell_type": "code",
   "execution_count": null,
   "metadata": {},
   "outputs": [],
   "source": []
  }
 ],
 "metadata": {
  "kernelspec": {
   "display_name": "Python 3",
   "language": "python",
   "name": "python3"
  },
  "language_info": {
   "codemirror_mode": {
    "name": "ipython",
    "version": 3
   },
   "file_extension": ".py",
   "mimetype": "text/x-python",
   "name": "python",
   "nbconvert_exporter": "python",
   "pygments_lexer": "ipython3",
   "version": "3.7.4"
  }
 },
 "nbformat": 4,
 "nbformat_minor": 4
}
